{
 "cells": [
  {
   "cell_type": "markdown",
   "metadata": {},
   "source": [
    "<h1>Capstone Project - The Battle of Neighborhoods (Week 1)</h1>"
   ]
  },
  {
   "cell_type": "markdown",
   "metadata": {},
   "source": [
    "<h2>Introduction</h2>"
   ]
  },
  {
   "cell_type": "markdown",
   "metadata": {},
   "source": [
    "What do you think of when you think of shopping? Probably a mall, right? In most areas, rural and urban, a shopping mall is the primary location for folks to walk around, purchase items, and sometimes even have a meal. For this project, we're going to determine where is the best place to open a mall in the Greater Boston Area. The most famous mall in the city itself is perhaps Copley Place in the Back Bay neighborhood which features stores that range from Tiffany & Co. to Lucky Brand, but is Back Bay *really* the best place to be?\n",
    "\n",
    "As the Greater Boston Area continues to expand and develop into its surrounding neighborhoods such as Dorchester, Roxbury, etc., this information will become relevant and can even be manipulated to target the development of movie theaters, housing complexes, etc. instead of malls. Therefore, the target audience of this report will be developers and investors that are looking to profit on the production of such development. Having this information could not only promote development, but also drive profits for investors. According to Norada Real Estate Investments, the average housing prices in Boston are increasing by about 5.7% per year. This might not seem like much until you realize that the most expensive neighborhood of Beacon Hill has an median housing price of over $2 million dollars. Having such information, but for all neighbors can let investors know if its really worth placing a mall in an area where housing is so expensive. "
   ]
  },
  {
   "cell_type": "markdown",
   "metadata": {},
   "source": [
    "<h2>Data</h2>"
   ]
  },
  {
   "cell_type": "markdown",
   "metadata": {},
   "source": [
    "The primary dataset we're going to be using in this project is that from the Foursquare API, specifically the venue data that lists the shopping malls in the Greater Boston Area. In regards to the area we will be surveying, I will refer to the neighborhoods listed in [this](https://en.wikipedia.org/wiki/Neighborhoods_in_Boston) Wikipedia article. I will use python webscraping techniques using beautiful soup in order extract the neighborhood information which I'll then be able to send into the Geocoder package and eventually the Foursquare API to get venue information\n",
    "\n",
    "Once we have all of our data sourced, we will be able to implement the techniques learned in this course, specifically k-means clustering in order to determine the answer to our question at hand. The clustering will happen based on the venues (specifically the malls) in the different zip codes that encompass the neighborhoods."
   ]
  }
 ],
 "metadata": {
  "kernelspec": {
   "display_name": "Python",
   "language": "python",
   "name": "conda-env-python-py"
  },
  "language_info": {
   "codemirror_mode": {
    "name": "ipython",
    "version": 3
   },
   "file_extension": ".py",
   "mimetype": "text/x-python",
   "name": "python",
   "nbconvert_exporter": "python",
   "pygments_lexer": "ipython3",
   "version": "3.6.11"
  }
 },
 "nbformat": 4,
 "nbformat_minor": 4
}
