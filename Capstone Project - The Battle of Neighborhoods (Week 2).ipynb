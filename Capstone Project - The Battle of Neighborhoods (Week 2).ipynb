{
 "cells": [
  {
   "cell_type": "markdown",
   "metadata": {},
   "source": [
    "<h1>Capstone Project - The Battle of Neighborhoods (Week 2)</h1>"
   ]
  },
  {
   "cell_type": "markdown",
   "metadata": {},
   "source": [
    "<h2>Introduction</h2>"
   ]
  },
  {
   "cell_type": "markdown",
   "metadata": {},
   "source": [
    "What do you think of when you think of shopping? Probably a mall, right? In most areas, rural and urban, a shopping mall is the primary location for folks to walk around, purchase items, and sometimes even have a meal. For this project, we're going to determine where is the best place to open a mall in the Greater Boston Area. The most famous mall in the city itself is perhaps Copley Place in the Back Bay neighborhood which features stores that range from Tiffany & Co. to Lucky Brand, but is Back Bay *really* the best place to be?\n",
    "\n",
    "As the Greater Boston Area continues to expand and develop into its surrounding neighborhoods such as Dorchester, Roxbury, etc., this information will become relevant and can even be manipulated to target the development of movie theaters, housing complexes, etc. instead of malls. Therefore, the target audience of this report will be developers and investors that are looking to profit on the production of such development. Having this information could not only promote development, but also drive profits for investors. According to Norada Real Estate Investments, the average housing prices in Boston are increasing by about 5.7% per year. This might not seem like much until you realize that the most expensive neighborhood of Beacon Hill has an median housing price of over $2 million dollars. Having such information, but for all neighbors can let investors know if its really worth placing a mall in an area where housing is so expensive. "
   ]
  },
  {
   "cell_type": "markdown",
   "metadata": {},
   "source": [
    "<h2>Data</h2>"
   ]
  },
  {
   "cell_type": "markdown",
   "metadata": {},
   "source": [
    "The primary dataset we're going to be using in this project is that from the Foursquare API, specifically the venue data that lists the shopping malls in the Greater Boston Area. In regards to the area we will be surveying, I will refer to the 22 neighborhoods listed in [this](https://en.wikipedia.org/wiki/Neighborhoods_in_Boston) Wikipedia article. I will use python webscraping techniques using beautiful soup in order extract the neighborhood information which I'll then be able to send into the Geocoder package and eventually the Foursquare API to get venue information\n",
    "\n",
    "Once we have all of our data sourced, we will be able to implement the techniques learned in this course, specifically k-means clustering in order to determine the answer to our question at hand. The clustering will happen based on the venues (specifically the malls) in the different zip codes that encompass the neighborhoods."
   ]
  },
  {
   "cell_type": "markdown",
   "metadata": {},
   "source": [
    "<h2>Analysis</h2>"
   ]
  },
  {
   "cell_type": "markdown",
   "metadata": {},
   "source": [
    "<h3>Install Necessary Dependencies</h3>"
   ]
  },
  {
   "cell_type": "code",
   "execution_count": 48,
   "metadata": {},
   "outputs": [],
   "source": [
    "import numpy as np\n",
    "import pandas as pd\n",
    "import requests\n",
    "#!conda install -c conda-forge bs4 --yes\n",
    "import bs4\n",
    "import requests\n",
    "from urllib.request import urlopen\n",
    "from bs4 import BeautifulSoup\n",
    "#!conda install -c conda-forge folium=0.5.0 --yes \n",
    "import folium\n",
    "#!conda install -c conda-forge geopy --yes\n",
    "import geopy\n",
    "from geopy.geocoders import Nominatim\n",
    "#!conda install -c conda-forge geocoder --yes\n",
    "import geocoder"
   ]
  },
  {
   "cell_type": "markdown",
   "metadata": {},
   "source": [
    "<h3>Import Data</h3>"
   ]
  },
  {
   "cell_type": "markdown",
   "metadata": {},
   "source": [
    "In this section we will scrape the Wikipedia page in order to retrieve the names of the 22 neighborhoods in the Greater Boston Area. Something that was prevalent in this process was that in the neighborhood name was surrounding areas that were included. In order to avoid running into issues with this going forward, everything except for the neighborhood name was emitted."
   ]
  },
  {
   "cell_type": "code",
   "execution_count": 30,
   "metadata": {},
   "outputs": [],
   "source": [
    "neighborhoodData = requests.get(\"https://en.wikipedia.org/wiki/Neighborhoods_in_Boston\").text\n",
    "souped = BeautifulSoup(neighborhoodData, 'html.parser')"
   ]
  },
  {
   "cell_type": "code",
   "execution_count": 31,
   "metadata": {},
   "outputs": [
    {
     "name": "stdout",
     "output_type": "stream",
     "text": [
      "<class 'pandas.core.frame.DataFrame'>\n",
      "RangeIndex: 22 entries, 0 to 21\n",
      "Data columns (total 1 columns):\n",
      " #   Column        Non-Null Count  Dtype \n",
      "---  ------        --------------  ----- \n",
      " 0   Neighborhood  22 non-null     object\n",
      "dtypes: object(1)\n",
      "memory usage: 304.0+ bytes\n"
     ]
    }
   ],
   "source": [
    "data = []\n",
    "\n",
    "for row in souped.find_all(\"div\", class_=\"div-col columns column-width\")[0].findAll(\"li\"):\n",
    "    data.append(row.text)\n",
    "    \n",
    "df = pd.DataFrame({\"Neighborhood\": data})\n",
    "df.info() # Should show that there are 22 entries (aka 22 neighborhoods)"
   ]
  },
  {
   "cell_type": "code",
   "execution_count": 34,
   "metadata": {},
   "outputs": [
    {
     "name": "stdout",
     "output_type": "stream",
     "text": [
      "                                         Neighborhood\n",
      "0                                             Allston\n",
      "1                                            Back Bay\n",
      "2                                         Bay Village\n",
      "3                                         Beacon Hill\n",
      "4                                            Brighton\n",
      "5                                         Charlestown\n",
      "6                          Chinatown/Leather District\n",
      "7   Dorchester (divided for planning purposes into...\n",
      "8                                            Downtown\n",
      "9                                         East Boston\n",
      "10                 Fenway Kenmore (includes Longwood)\n",
      "11                                          Hyde Park\n",
      "12                                      Jamaica Plain\n",
      "13                                           Mattapan\n",
      "14                                       Mission Hill\n",
      "15                                          North End\n",
      "16                                         Roslindale\n",
      "17                                            Roxbury\n",
      "18                                       South Boston\n",
      "19                                          South End\n",
      "20                                           West End\n",
      "21                                       West Roxbury\n"
     ]
    }
   ],
   "source": [
    "print(df)"
   ]
  },
  {
   "cell_type": "code",
   "execution_count": 42,
   "metadata": {},
   "outputs": [],
   "source": [
    "df['Neighborhood'].replace({'Fenway Kenmore (includes Longwood)':'Fenway Kenmore'},inplace=True)\n",
    "df['Neighborhood'].replace({'Dorchester (divided for planning purposes into Mid Dorchester and Dorchester)':'Dorchester'},inplace=True)"
   ]
  },
  {
   "cell_type": "code",
   "execution_count": 43,
   "metadata": {},
   "outputs": [
    {
     "name": "stdout",
     "output_type": "stream",
     "text": [
      "                  Neighborhood\n",
      "0                      Allston\n",
      "1                     Back Bay\n",
      "2                  Bay Village\n",
      "3                  Beacon Hill\n",
      "4                     Brighton\n",
      "5                  Charlestown\n",
      "6   Chinatown/Leather District\n",
      "7                   Dorchester\n",
      "8                     Downtown\n",
      "9                  East Boston\n",
      "10              Fenway Kenmore\n",
      "11                   Hyde Park\n",
      "12               Jamaica Plain\n",
      "13                    Mattapan\n",
      "14                Mission Hill\n",
      "15                   North End\n",
      "16                  Roslindale\n",
      "17                     Roxbury\n",
      "18                South Boston\n",
      "19                   South End\n",
      "20                    West End\n",
      "21                West Roxbury\n"
     ]
    }
   ],
   "source": [
    "print(df)"
   ]
  },
  {
   "cell_type": "code",
   "execution_count": 35,
   "metadata": {},
   "outputs": [
    {
     "data": {
      "text/plain": [
       "(22, 1)"
      ]
     },
     "execution_count": 35,
     "metadata": {},
     "output_type": "execute_result"
    }
   ],
   "source": [
    "df.shape"
   ]
  },
  {
   "cell_type": "markdown",
   "metadata": {},
   "source": [
    "<h3>Latitude & Longitude</h3>"
   ]
  },
  {
   "cell_type": "markdown",
   "metadata": {},
   "source": [
    "In this section we will retrieve the coordinates of each neighborhood using the geocoder library. This method is similar to that provided in the *Segmenting and Clustering Neighborhoods in Toronto* section, but is slightly modified to examine the neighborhood rather than the postal code. After the coordinates were received, they were matched to their respective neighborhoods in the original dataframe initialized above."
   ]
  },
  {
   "cell_type": "code",
   "execution_count": 50,
   "metadata": {},
   "outputs": [],
   "source": [
    "def getCoords(neighborhood):\n",
    "    coords = None\n",
    "    while(coords is None):\n",
    "        geo = geocoder.arcgis('{}, Boston, Massachusetts'.format(neighborhood))\n",
    "        coords = geo.latlng\n",
    "    return coords"
   ]
  },
  {
   "cell_type": "code",
   "execution_count": 52,
   "metadata": {},
   "outputs": [],
   "source": [
    "coordinates = [ getCoords(neighborhood) for neighborhood in df[\"Neighborhood\"].tolist() ]"
   ]
  },
  {
   "cell_type": "code",
   "execution_count": 58,
   "metadata": {},
   "outputs": [
    {
     "name": "stdout",
     "output_type": "stream",
     "text": [
      "  Neighborhood   Latitude  Longitude\n",
      "0      Allston  42.350531 -71.111091\n",
      "1     Back Bay  42.349990 -71.087650\n",
      "2  Bay Village  42.348165 -71.068470\n",
      "3  Beacon Hill  42.358420 -71.068600\n",
      "4     Brighton  42.352134 -71.124925\n"
     ]
    }
   ],
   "source": [
    "dfCoordinates = pd.DataFrame(coordinates, columns=['Latitude', 'Longitude'])\n",
    "\n",
    "df['Latitude'] = dfCoordinates['Latitude']\n",
    "df['Longitude'] = dfCoordinates['Longitude']\n",
    "\n",
    "print(df.head())"
   ]
  },
  {
   "cell_type": "code",
   "execution_count": null,
   "metadata": {},
   "outputs": [],
   "source": []
  }
 ],
 "metadata": {
  "kernelspec": {
   "display_name": "Python",
   "language": "python",
   "name": "conda-env-python-py"
  },
  "language_info": {
   "codemirror_mode": {
    "name": "ipython",
    "version": 3
   },
   "file_extension": ".py",
   "mimetype": "text/x-python",
   "name": "python",
   "nbconvert_exporter": "python",
   "pygments_lexer": "ipython3",
   "version": "3.6.11"
  }
 },
 "nbformat": 4,
 "nbformat_minor": 4
}
