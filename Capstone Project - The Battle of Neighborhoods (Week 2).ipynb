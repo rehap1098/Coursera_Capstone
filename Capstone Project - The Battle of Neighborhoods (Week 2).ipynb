{
 "cells": [
  {
   "cell_type": "markdown",
   "metadata": {},
   "source": [
    "<h1>Capstone Project - The Battle of Neighborhoods (Week 2)</h1>"
   ]
  },
  {
   "cell_type": "markdown",
   "metadata": {},
   "source": [
    "<h2>Introduction</h2>"
   ]
  },
  {
   "cell_type": "markdown",
   "metadata": {},
   "source": [
    "What do you think of when you think of working out? Probably a **gym**, right? In most areas, rural and urban, a gym is the primary location for people to exercise and work on fitness. For this project, I'm going to determine where is the best place to open a gym in the Greater Boston Area. There are a number of gyms in the city ranging from Boston Sports Clubs in Backbay to Planet Fitness in Downtown, but where is *really* the best place to be?\n",
    "\n",
    "As the Greater Boston Area continues to expand and develop into its surrounding neighborhoods such as Dorchester, Roxbury, etc., this information will become relevant and can even be manipulated to target the development of movie theaters, housing complexes, etc. instead of gyms. Therefore, the target audience of this report will be developers and investors that are looking to profit on the production of such development.  According to Norada Real Estate Investments, the average housing prices in Boston are increasing by about 5.7% per year. This might not seem like much until you realize that the most expensive neighborhood of Beacon Hill has an median housing price of over $2 million dollars. Having such information, but for all neighbors can let investors know if its really worth placing a gym in an area where housing is so expensive. "
   ]
  },
  {
   "cell_type": "markdown",
   "metadata": {},
   "source": [
    "<h2>Data</h2>"
   ]
  },
  {
   "cell_type": "markdown",
   "metadata": {},
   "source": [
    "The primary dataset we're going to be using in this project is that from the Foursquare API, specifically the venue data that lists the gyms in the Greater Boston Area. In regards to the area we will be surveying, I will refer to the 22 neighborhoods listed in [this](https://en.wikipedia.org/wiki/Neighborhoods_in_Boston) Wikipedia article. I will use python webscraping techniques using beautiful soup in order extract the neighborhood information which I'll then be able to send into the Geocoder package and eventually the Foursquare API to get venue information\n",
    "\n",
    "Once we have all of our data sourced, we will be able to implement the techniques learned in this course, specifically k-means clustering in order to determine the answer to our question at hand. The clustering will happen based on the venues (specifically the gyms) in the different neighborhoods."
   ]
  },
  {
   "cell_type": "markdown",
   "metadata": {},
   "source": [
    "<h2>Analysis</h2>"
   ]
  },
  {
   "cell_type": "markdown",
   "metadata": {},
   "source": [
    "<h3>Install Necessary Dependencies</h3>"
   ]
  },
  {
   "cell_type": "code",
   "execution_count": 119,
   "metadata": {},
   "outputs": [],
   "source": [
    "import numpy as np\n",
    "import pandas as pd\n",
    "import requests\n",
    "#!conda install -c conda-forge bs4 --yes\n",
    "import bs4\n",
    "import requests\n",
    "from urllib.request import urlopen\n",
    "from bs4 import BeautifulSoup\n",
    "#!conda install -c conda-forge folium=0.5.0 --yes \n",
    "import folium\n",
    "#!conda install -c conda-forge geopy --yes\n",
    "import geopy\n",
    "from geopy.geocoders import Nominatim\n",
    "#!conda install -c conda-forge geocoder --yes\n",
    "import geocoder\n",
    "from sklearn.cluster import KMeans\n",
    "import matplotlib.cm as cm\n",
    "import matplotlib.colors as colors"
   ]
  },
  {
   "cell_type": "markdown",
   "metadata": {},
   "source": [
    "<h3>Import Data</h3>"
   ]
  },
  {
   "cell_type": "markdown",
   "metadata": {},
   "source": [
    "In this section we will scrape the Wikipedia page in order to retrieve the names of the 22 neighborhoods in the Greater Boston Area. Something that was prevalent in this process was that in the neighborhood name was surrounding areas that were included. In order to avoid running into issues with this going forward, everything except for the neighborhood name was emitted."
   ]
  },
  {
   "cell_type": "code",
   "execution_count": 30,
   "metadata": {},
   "outputs": [],
   "source": [
    "neighborhoodData = requests.get(\"https://en.wikipedia.org/wiki/Neighborhoods_in_Boston\").text\n",
    "souped = BeautifulSoup(neighborhoodData, 'html.parser')"
   ]
  },
  {
   "cell_type": "code",
   "execution_count": 31,
   "metadata": {},
   "outputs": [
    {
     "name": "stdout",
     "output_type": "stream",
     "text": [
      "<class 'pandas.core.frame.DataFrame'>\n",
      "RangeIndex: 22 entries, 0 to 21\n",
      "Data columns (total 1 columns):\n",
      " #   Column        Non-Null Count  Dtype \n",
      "---  ------        --------------  ----- \n",
      " 0   Neighborhood  22 non-null     object\n",
      "dtypes: object(1)\n",
      "memory usage: 304.0+ bytes\n"
     ]
    }
   ],
   "source": [
    "data = []\n",
    "\n",
    "for row in souped.find_all(\"div\", class_=\"div-col columns column-width\")[0].findAll(\"li\"):\n",
    "    data.append(row.text)\n",
    "    \n",
    "df = pd.DataFrame({\"Neighborhood\": data})\n",
    "df.info() # Should show that there are 22 entries (aka 22 neighborhoods)"
   ]
  },
  {
   "cell_type": "code",
   "execution_count": 34,
   "metadata": {},
   "outputs": [
    {
     "name": "stdout",
     "output_type": "stream",
     "text": [
      "                                         Neighborhood\n",
      "0                                             Allston\n",
      "1                                            Back Bay\n",
      "2                                         Bay Village\n",
      "3                                         Beacon Hill\n",
      "4                                            Brighton\n",
      "5                                         Charlestown\n",
      "6                          Chinatown/Leather District\n",
      "7   Dorchester (divided for planning purposes into...\n",
      "8                                            Downtown\n",
      "9                                         East Boston\n",
      "10                 Fenway Kenmore (includes Longwood)\n",
      "11                                          Hyde Park\n",
      "12                                      Jamaica Plain\n",
      "13                                           Mattapan\n",
      "14                                       Mission Hill\n",
      "15                                          North End\n",
      "16                                         Roslindale\n",
      "17                                            Roxbury\n",
      "18                                       South Boston\n",
      "19                                          South End\n",
      "20                                           West End\n",
      "21                                       West Roxbury\n"
     ]
    }
   ],
   "source": [
    "print(df)"
   ]
  },
  {
   "cell_type": "code",
   "execution_count": 42,
   "metadata": {},
   "outputs": [],
   "source": [
    "df['Neighborhood'].replace({'Fenway Kenmore (includes Longwood)':'Fenway Kenmore'},inplace=True)\n",
    "df['Neighborhood'].replace({'Dorchester (divided for planning purposes into Mid Dorchester and Dorchester)':'Dorchester'},inplace=True)"
   ]
  },
  {
   "cell_type": "code",
   "execution_count": 43,
   "metadata": {},
   "outputs": [
    {
     "name": "stdout",
     "output_type": "stream",
     "text": [
      "                  Neighborhood\n",
      "0                      Allston\n",
      "1                     Back Bay\n",
      "2                  Bay Village\n",
      "3                  Beacon Hill\n",
      "4                     Brighton\n",
      "5                  Charlestown\n",
      "6   Chinatown/Leather District\n",
      "7                   Dorchester\n",
      "8                     Downtown\n",
      "9                  East Boston\n",
      "10              Fenway Kenmore\n",
      "11                   Hyde Park\n",
      "12               Jamaica Plain\n",
      "13                    Mattapan\n",
      "14                Mission Hill\n",
      "15                   North End\n",
      "16                  Roslindale\n",
      "17                     Roxbury\n",
      "18                South Boston\n",
      "19                   South End\n",
      "20                    West End\n",
      "21                West Roxbury\n"
     ]
    }
   ],
   "source": [
    "print(df)"
   ]
  },
  {
   "cell_type": "code",
   "execution_count": 35,
   "metadata": {},
   "outputs": [
    {
     "data": {
      "text/plain": [
       "(22, 1)"
      ]
     },
     "execution_count": 35,
     "metadata": {},
     "output_type": "execute_result"
    }
   ],
   "source": [
    "df.shape"
   ]
  },
  {
   "cell_type": "markdown",
   "metadata": {},
   "source": [
    "<h3>Latitude & Longitude</h3>"
   ]
  },
  {
   "cell_type": "markdown",
   "metadata": {},
   "source": [
    "In this section we will retrieve the coordinates of each neighborhood using the geocoder library. This method is similar to that provided in the *Segmenting and Clustering Neighborhoods in Toronto* section, but is slightly modified to examine the neighborhood rather than the postal code. After the coordinates were received, they were matched to their respective neighborhoods in the original dataframe initialized above."
   ]
  },
  {
   "cell_type": "code",
   "execution_count": 50,
   "metadata": {},
   "outputs": [],
   "source": [
    "def getCoords(neighborhood):\n",
    "    coords = None\n",
    "    while(coords is None):\n",
    "        geo = geocoder.arcgis('{}, Boston, Massachusetts'.format(neighborhood))\n",
    "        coords = geo.latlng\n",
    "    return coords"
   ]
  },
  {
   "cell_type": "code",
   "execution_count": 52,
   "metadata": {},
   "outputs": [],
   "source": [
    "coordinates = [ getCoords(neighborhood) for neighborhood in df[\"Neighborhood\"].tolist() ]"
   ]
  },
  {
   "cell_type": "code",
   "execution_count": 58,
   "metadata": {},
   "outputs": [
    {
     "name": "stdout",
     "output_type": "stream",
     "text": [
      "  Neighborhood   Latitude  Longitude\n",
      "0      Allston  42.350531 -71.111091\n",
      "1     Back Bay  42.349990 -71.087650\n",
      "2  Bay Village  42.348165 -71.068470\n",
      "3  Beacon Hill  42.358420 -71.068600\n",
      "4     Brighton  42.352134 -71.124925\n"
     ]
    }
   ],
   "source": [
    "dfCoordinates = pd.DataFrame(coordinates, columns=['Latitude', 'Longitude'])\n",
    "\n",
    "df['Latitude'] = dfCoordinates['Latitude']\n",
    "df['Longitude'] = dfCoordinates['Longitude']\n",
    "\n",
    "print(df.head())"
   ]
  },
  {
   "cell_type": "markdown",
   "metadata": {},
   "source": [
    "<h3>Initialize a Map</h3>"
   ]
  },
  {
   "cell_type": "markdown",
   "metadata": {},
   "source": [
    "In this section we will initialize a map that not only uses the general coordinates of the Greater Boston Area, but also each individual neighborhood. The blue markers found in the map are marking the 22 neighborhoods retrieved above."
   ]
  },
  {
   "cell_type": "code",
   "execution_count": 69,
   "metadata": {},
   "outputs": [],
   "source": [
    "# Sourced from Google Search Response, Coordinates of Boston: 42.3601° N, 71.0589° W\n",
    "latitude = 42.3601\n",
    "longitude = -71.0589"
   ]
  },
  {
   "cell_type": "code",
   "execution_count": 121,
   "metadata": {},
   "outputs": [
    {
     "data": {
      "text/html": [
       "<div style=\"width:100%;\"><div style=\"position:relative;width:100%;height:0;padding-bottom:60%;\"><span style=\"color:#565656\">Make this Notebook Trusted to load map: File -> Trust Notebook</span><iframe src=\"about:blank\" style=\"position:absolute;width:100%;height:100%;left:0;top:0;border:none !important;\" data-html=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 onload=\"this.contentDocument.open();this.contentDocument.write(atob(this.getAttribute('data-html')));this.contentDocument.close();\" allowfullscreen webkitallowfullscreen mozallowfullscreen></iframe></div></div>"
      ],
      "text/plain": [
       "<folium.folium.Map at 0x7fb78d5d81d0>"
      ]
     },
     "execution_count": 121,
     "metadata": {},
     "output_type": "execute_result"
    }
   ],
   "source": [
    "map_bos = folium.Map(location=[latitude, longitude], zoom_start=11)\n",
    "\n",
    "# add markers to map\n",
    "for lat, lng, neighborhood in zip(df['Latitude'], df['Longitude'], df['Neighborhood']):\n",
    "    label = '{}'.format(neighborhood)\n",
    "    label = folium.Popup(label, parse_html=True)\n",
    "    folium.CircleMarker(\n",
    "        [lat, lng],\n",
    "        radius=5,\n",
    "        popup=label,\n",
    "        color='blue',\n",
    "        fill=True,\n",
    "        fill_color='#3186cc',\n",
    "        fill_opacity=0.7).add_to(map_bos)  \n",
    "    \n",
    "map_bos"
   ]
  },
  {
   "cell_type": "markdown",
   "metadata": {},
   "source": [
    "<h3>Foursquare API: Initialized & Implemented</h3>"
   ]
  },
  {
   "cell_type": "markdown",
   "metadata": {},
   "source": [
    "This section initializes the API by entering the necessary parameters in the request and also calls the API to find the types and number of venues in each of the neighborhood. Because each neighborhood has *many* venues, there was a limit put on the number of venues pulled. "
   ]
  },
  {
   "cell_type": "code",
   "execution_count": 68,
   "metadata": {},
   "outputs": [
    {
     "name": "stdout",
     "output_type": "stream",
     "text": [
      "Your credentails:\n",
      "CLIENT_ID: RIGJPJJEEDR4UIWFSGNAYNMMTV1HKD5QI1USLLMLHXVOXGI0\n",
      "CLIENT_SECRET:PP3WT3JSYJYPBK4FTFCFM3QSQ3JAKZKDFBDRREMN2L1ZSJDS\n"
     ]
    }
   ],
   "source": [
    "CLIENT_ID = 'RIGJPJJEEDR4UIWFSGNAYNMMTV1HKD5QI1USLLMLHXVOXGI0'\n",
    "CLIENT_SECRET = 'PP3WT3JSYJYPBK4FTFCFM3QSQ3JAKZKDFBDRREMN2L1ZSJDS'\n",
    "VERSION = '20180605'\n",
    "\n",
    "print('Your credentails:')\n",
    "print('CLIENT_ID: ' + CLIENT_ID)\n",
    "print('CLIENT_SECRET:' + CLIENT_SECRET)"
   ]
  },
  {
   "cell_type": "code",
   "execution_count": 73,
   "metadata": {},
   "outputs": [
    {
     "name": "stdout",
     "output_type": "stream",
     "text": [
      "The geograpical coordinate of Boston, Massachusetts are 42.3601 N, -71.0589 W.\n"
     ]
    }
   ],
   "source": [
    "print('The geograpical coordinate of Boston, Massachusetts are {} N, {} W.'.format(latitude, longitude))"
   ]
  },
  {
   "cell_type": "code",
   "execution_count": 82,
   "metadata": {},
   "outputs": [],
   "source": [
    "radius = 1609.34 # 1 mile radius\n",
    "LIMIT = 100\n",
    "\n",
    "venues_list = []\n",
    "\n",
    "for lat, long, neighborhood in zip(df['Latitude'], df['Longitude'], df['Neighborhood']):\n",
    "    \n",
    "    url = \"https://api.foursquare.com/v2/venues/explore?client_id={}&client_secret={}&v={}&ll={},{}&radius={}&limit={}\".format(\n",
    "        CLIENT_ID,\n",
    "        CLIENT_SECRET,\n",
    "        VERSION,\n",
    "        lat,\n",
    "        long,\n",
    "        radius, \n",
    "        LIMIT)\n",
    "    \n",
    "    results = requests.get(url).json()[\"response\"][\"groups\"][0][\"items\"]\n",
    "    #print(results)\n",
    "    \n",
    "    for venue in results:\n",
    "        venues_list.append((\n",
    "            neighborhood,\n",
    "            lat, \n",
    "            long, \n",
    "            venue['venue']['name'], \n",
    "            venue['venue']['location']['lat'], \n",
    "            venue['venue']['location']['lng'],  \n",
    "            venue['venue']['categories'][0]['name']))"
   ]
  },
  {
   "cell_type": "code",
   "execution_count": 85,
   "metadata": {},
   "outputs": [
    {
     "name": "stdout",
     "output_type": "stream",
     "text": [
      "  Neighborhood   Latitude  Longitude             Venue Name  Venue Lat  \\\n",
      "0      Allston  42.350531 -71.111091                   OTTO  42.350388   \n",
      "1      Allston  42.350531 -71.111091  Boston House of Pizza  42.350281   \n",
      "2      Allston  42.350531 -71.111091     South West Day Spa  42.345855   \n",
      "3      Allston  42.350531 -71.111091  Gyu-Kaku Japanese BBQ  42.346322   \n",
      "4      Allston  42.350531 -71.111091        Down Under Yoga  42.345767   \n",
      "\n",
      "   Venue Long       Venue Category  \n",
      "0  -71.115236          Pizza Place  \n",
      "1  -71.113864          Pizza Place  \n",
      "2  -71.108433                  Spa  \n",
      "3  -71.106985  Japanese Restaurant  \n",
      "4  -71.109114          Yoga Studio  \n",
      "                            Latitude  Longitude  Venue Name  Venue Lat  \\\n",
      "Neighborhood                                                             \n",
      "Allston                          100        100         100        100   \n",
      "Back Bay                         100        100         100        100   \n",
      "Bay Village                      100        100         100        100   \n",
      "Beacon Hill                      100        100         100        100   \n",
      "Brighton                         100        100         100        100   \n",
      "Charlestown                      100        100         100        100   \n",
      "Chinatown/Leather District       100        100         100        100   \n",
      "Dorchester                       100        100         100        100   \n",
      "Downtown                         100        100         100        100   \n",
      "East Boston                      100        100         100        100   \n",
      "Fenway Kenmore                   100        100         100        100   \n",
      "Hyde Park                         61         61          61         61   \n",
      "Jamaica Plain                     64         64          64         64   \n",
      "Mattapan                          50         50          50         50   \n",
      "Mission Hill                     100        100         100        100   \n",
      "North End                        100        100         100        100   \n",
      "Roslindale                        77         77          77         77   \n",
      "Roxbury                          100        100         100        100   \n",
      "South Boston                     100        100         100        100   \n",
      "South End                        100        100         100        100   \n",
      "West End                         100        100         100        100   \n",
      "West Roxbury                      75         75          75         75   \n",
      "\n",
      "                            Venue Long  Venue Category  \n",
      "Neighborhood                                            \n",
      "Allston                            100             100  \n",
      "Back Bay                           100             100  \n",
      "Bay Village                        100             100  \n",
      "Beacon Hill                        100             100  \n",
      "Brighton                           100             100  \n",
      "Charlestown                        100             100  \n",
      "Chinatown/Leather District         100             100  \n",
      "Dorchester                         100             100  \n",
      "Downtown                           100             100  \n",
      "East Boston                        100             100  \n",
      "Fenway Kenmore                     100             100  \n",
      "Hyde Park                           61              61  \n",
      "Jamaica Plain                       64              64  \n",
      "Mattapan                            50              50  \n",
      "Mission Hill                       100             100  \n",
      "North End                          100             100  \n",
      "Roslindale                          77              77  \n",
      "Roxbury                            100             100  \n",
      "South Boston                       100             100  \n",
      "South End                          100             100  \n",
      "West End                           100             100  \n",
      "West Roxbury                        75              75  \n"
     ]
    }
   ],
   "source": [
    "dfVenues = pd.DataFrame(venues_list)\n",
    "\n",
    "dfVenues.columns = ['Neighborhood', 'Latitude', 'Longitude', 'Venue Name', 'Venue Lat', 'Venue Long', 'Venue Category']\n",
    "\n",
    "print(dfVenues.head())\n",
    "print(dfVenues.groupby([\"Neighborhood\"]).count())\n"
   ]
  },
  {
   "cell_type": "code",
   "execution_count": 95,
   "metadata": {},
   "outputs": [
    {
     "name": "stdout",
     "output_type": "stream",
     "text": [
      "There are 201 uniques categories in the Greater Boston Area.\n",
      "There are: ['Pizza Place' 'Spa' 'Japanese Restaurant' 'Yoga Studio' 'Park'\n",
      " 'Chinese Restaurant' 'Gym / Fitness Center' 'Bakery' 'Udon Restaurant'\n",
      " 'Shipping Store' 'Fried Chicken Joint' 'Trail' 'Israeli Restaurant'\n",
      " 'Grocery Store' 'Coffee Shop' 'Food Court' 'Rock Club' 'Tapas Restaurant'\n",
      " 'Sporting Goods Shop' 'Salad Place' 'Bubble Tea Shop'\n",
      " 'Furniture / Home Store' 'Liquor Store' 'Thai Restaurant' 'Burrito Place'\n",
      " 'BBQ Joint' 'Beer Garden' 'Baseball Stadium' 'Mexican Restaurant'\n",
      " 'American Restaurant' 'Café' 'Lounge' 'Hotel' 'Bookstore'\n",
      " 'Indie Movie Theater' \"Doctor's Office\" 'Burger Joint' 'Donut Shop'\n",
      " 'Cycle Studio' 'Seafood Restaurant' 'Pub' 'Mediterranean Restaurant'\n",
      " 'Tour Provider' 'Electronics Store' 'Ice Cream Shop' 'Sushi Restaurant'\n",
      " 'Sandwich Place' 'Greek Restaurant' 'Noodle House' 'Music Venue'\n",
      " 'Creperie' 'Big Box Store' 'Deli / Bodega'\n",
      " 'Vegetarian / Vegan Restaurant' 'Falafel Restaurant' 'Wine Bar' 'Gym'\n",
      " 'Southern / Soul Food Restaurant' 'Middle Eastern Restaurant'\n",
      " 'Movie Theater' 'Cocktail Bar' 'Fast Food Restaurant'\n",
      " 'Vietnamese Restaurant' 'Wine Shop' 'Clothing Store' 'Miscellaneous Shop'\n",
      " 'Comic Shop' 'Social Club' 'Ramen Restaurant' 'Department Store'\n",
      " 'French Restaurant' 'Gourmet Shop' 'Restaurant' 'Italian Restaurant'\n",
      " 'Dessert Shop' 'Pet Store' 'Steakhouse' 'Bar' 'Bank' 'Garden'\n",
      " 'Shopping Mall' 'Athletics & Sports' 'Shoe Store' 'Concert Hall'\n",
      " 'History Museum' 'Plaza' 'New American Restaurant' 'Cosmetics Shop'\n",
      " 'Farmers Market' 'Diner' 'Brazilian Restaurant' 'Juice Bar'\n",
      " 'Breakfast Spot' 'Dive Bar' 'Theater' 'Gastropub' 'Dance Studio' 'Hostel'\n",
      " 'Cupcake Shop' 'Asian Restaurant' 'Tiki Bar' 'Accessories Store'\n",
      " 'Dog Run' 'Gift Shop' 'Scenic Lookout' 'Opera House' 'Outdoor Sculpture'\n",
      " 'Latin American Restaurant' 'Art Gallery' 'Korean Restaurant'\n",
      " 'Playground' 'Lake' 'Hotel Bar' 'Library' 'Historic Site' 'River'\n",
      " 'Boat or Ferry' 'Performing Arts Venue' 'Market' 'Jewelry Store'\n",
      " 'Pilates Studio' 'Arts & Crafts Store' 'Belgian Restaurant'\n",
      " 'Hockey Arena' 'Science Museum' 'Sculpture Garden' 'Salon / Barbershop'\n",
      " 'Monument / Landmark' 'Food & Drink Shop' 'Indian Restaurant'\n",
      " 'Frozen Yogurt Shop' 'Comfort Food Restaurant' 'Hot Dog Joint'\n",
      " 'Board Shop' 'Tea Room' 'Bagel Shop' 'College Cafeteria' 'Supermarket'\n",
      " 'Dumpling Restaurant' 'Taco Place' 'Record Shop' 'Toy / Game Store'\n",
      " 'Jazz Club' 'Track' 'Church' 'Brewery' 'Cemetery' 'Skating Rink'\n",
      " 'Neighborhood' 'Pastry Shop' 'National Park' 'Harbor / Marina' 'Resort'\n",
      " 'Aquarium' 'Museum' 'Convenience Store' 'Pharmacy' 'Art Museum'\n",
      " 'Irish Pub' 'Baseball Field' 'Souvenir Shop' 'Sports Bar' 'Smoke Shop'\n",
      " 'Music Store' 'Food Truck' 'Golf Course' 'Flower Shop' 'Buffet'\n",
      " 'Video Store' 'Mobile Phone Shop' 'Cheese Shop' 'Discount Store' 'Pool'\n",
      " 'Automotive Shop' 'Video Game Store' 'Smoothie Shop' 'Cuban Restaurant'\n",
      " 'Rental Car Location' 'Child Care Service' 'Speakeasy' 'Planetarium'\n",
      " 'Caribbean Restaurant' 'Hardware Store' 'Cafeteria' 'Home Service'\n",
      " \"Women's Store\" 'ATM' 'Spanish Restaurant' 'Marijuana Dispensary'\n",
      " 'Nail Salon' 'Gas Station' 'Soccer Field' 'Snack Place'\n",
      " 'African Restaurant' 'Antique Shop' 'Arepa Restaurant' 'Garden Center'\n",
      " 'Gay Bar' 'Boutique' 'Bistro' 'Afghan Restaurant'].\n"
     ]
    }
   ],
   "source": [
    "print('There are {} uniques categories in the Greater Boston Area.'.format(len(dfVenues['Venue Category'].unique())))\n",
    "print('There are: {}.'.format(dfVenues['Venue Category'].unique()))"
   ]
  },
  {
   "cell_type": "markdown",
   "metadata": {},
   "source": [
    "<h3>Inspect Neighborhoods</h3>"
   ]
  },
  {
   "cell_type": "markdown",
   "metadata": {},
   "source": [
    "In this section we take the existing dataframes and essentially combine them with the different types of venues found in each. As a part of this process, I also looked at the most common found venue in each neighborhood and based on my experience with the city, I was not surprised to find that some of the most common were Pizza Place, Italian Restaurant, and Coffee Shop. I then found the total percentage of gyms in each neighborhood."
   ]
  },
  {
   "cell_type": "code",
   "execution_count": 109,
   "metadata": {},
   "outputs": [],
   "source": [
    "bos_onehot = pd.get_dummies(dfVenues[['Venue Category']], prefix=\"\", prefix_sep=\"\")\n",
    "\n",
    "bos_onehot['Neighborhood'] = dfVenues['Neighborhood'] \n",
    "\n",
    "fixed_columns = [bos_onehot.columns[-1]] + list(bos_onehot.columns[:-1])\n",
    "bos_onehot = bos_onehot[fixed_columns]"
   ]
  },
  {
   "cell_type": "code",
   "execution_count": 102,
   "metadata": {},
   "outputs": [
    {
     "name": "stdout",
     "output_type": "stream",
     "text": [
      "----Allston----\n",
      "                 venue  freq\n",
      "0          Coffee Shop  0.04\n",
      "1          Pizza Place  0.04\n",
      "2                 Park  0.04\n",
      "3  American Restaurant  0.04\n",
      "4               Bakery  0.04\n",
      "\n",
      "\n",
      "----Back Bay----\n",
      "                venue  freq\n",
      "0      Clothing Store  0.05\n",
      "1  Seafood Restaurant  0.05\n",
      "2               Hotel  0.05\n",
      "3      Ice Cream Shop  0.05\n",
      "4         Coffee Shop  0.04\n",
      "\n",
      "\n",
      "----Bay Village----\n",
      "                venue  freq\n",
      "0  Italian Restaurant  0.06\n",
      "1                Park  0.04\n",
      "2    Asian Restaurant  0.04\n",
      "3         Coffee Shop  0.04\n",
      "4                 Spa  0.04\n",
      "\n",
      "\n",
      "----Beacon Hill----\n",
      "           venue  freq\n",
      "0    Coffee Shop  0.06\n",
      "1           Park  0.05\n",
      "2            Spa  0.05\n",
      "3         Bakery  0.05\n",
      "4  Historic Site  0.04\n",
      "\n",
      "\n",
      "----Brighton----\n",
      "                  venue  freq\n",
      "0           Pizza Place  0.05\n",
      "1         Grocery Store  0.04\n",
      "2     Korean Restaurant  0.04\n",
      "3             Rock Club  0.03\n",
      "4  Gym / Fitness Center  0.03\n",
      "\n",
      "\n",
      "----Charlestown----\n",
      "                venue  freq\n",
      "0  Italian Restaurant  0.13\n",
      "1                Park  0.09\n",
      "2  Seafood Restaurant  0.07\n",
      "3         Pizza Place  0.05\n",
      "4       Historic Site  0.05\n",
      "\n",
      "\n",
      "----Chinatown/Leather District----\n",
      "                venue  freq\n",
      "0         Coffee Shop  0.06\n",
      "1              Bakery  0.06\n",
      "2  Italian Restaurant  0.06\n",
      "3                Park  0.05\n",
      "4      Sandwich Place  0.05\n",
      "\n",
      "\n",
      "----Dorchester----\n",
      "         venue  freq\n",
      "0  Coffee Shop  0.08\n",
      "1         Park  0.05\n",
      "2        Hotel  0.05\n",
      "3   Steakhouse  0.04\n",
      "4       Bakery  0.04\n",
      "\n",
      "\n",
      "----Downtown----\n",
      "                venue  freq\n",
      "0  Italian Restaurant  0.10\n",
      "1  Seafood Restaurant  0.09\n",
      "2                Park  0.07\n",
      "3         Coffee Shop  0.06\n",
      "4       Historic Site  0.06\n",
      "\n",
      "\n",
      "----East Boston----\n",
      "                venue  freq\n",
      "0         Coffee Shop  0.07\n",
      "1               Hotel  0.05\n",
      "2       Historic Site  0.05\n",
      "3                Park  0.04\n",
      "4  Italian Restaurant  0.04\n",
      "\n",
      "\n",
      "----Fenway Kenmore----\n",
      "                 venue  freq\n",
      "0                 Café  0.04\n",
      "1          Pizza Place  0.04\n",
      "2  American Restaurant  0.04\n",
      "3                 Park  0.04\n",
      "4                Hotel  0.03\n",
      "\n",
      "\n",
      "----Hyde Park----\n",
      "                venue  freq\n",
      "0         Pizza Place  0.08\n",
      "1            Pharmacy  0.07\n",
      "2  Italian Restaurant  0.05\n",
      "3          Donut Shop  0.05\n",
      "4       Grocery Store  0.05\n",
      "\n",
      "\n",
      "----Jamaica Plain----\n",
      "                 venue  freq\n",
      "0                 Park  0.11\n",
      "1  American Restaurant  0.06\n",
      "2               Bakery  0.05\n",
      "3                Trail  0.05\n",
      "4          Yoga Studio  0.03\n",
      "\n",
      "\n",
      "----Mattapan----\n",
      "                  venue  freq\n",
      "0  Caribbean Restaurant  0.06\n",
      "1  Fast Food Restaurant  0.06\n",
      "2           Pizza Place  0.06\n",
      "3          Liquor Store  0.06\n",
      "4     Mobile Phone Shop  0.04\n",
      "\n",
      "\n",
      "----Mission Hill----\n",
      "                venue  freq\n",
      "0                Park  0.06\n",
      "1         Pizza Place  0.05\n",
      "2  Italian Restaurant  0.04\n",
      "3  Mexican Restaurant  0.03\n",
      "4              Bakery  0.03\n",
      "\n",
      "\n",
      "----North End----\n",
      "                venue  freq\n",
      "0  Italian Restaurant  0.12\n",
      "1                Park  0.10\n",
      "2  Seafood Restaurant  0.09\n",
      "3       Historic Site  0.05\n",
      "4         Pizza Place  0.04\n",
      "\n",
      "\n",
      "----Roslindale----\n",
      "                 venue  freq\n",
      "0          Pizza Place  0.06\n",
      "1                  Bar  0.05\n",
      "2   Italian Restaurant  0.05\n",
      "3  American Restaurant  0.05\n",
      "4         Liquor Store  0.04\n",
      "\n",
      "\n",
      "----Roxbury----\n",
      "                  venue  freq\n",
      "0                  Café  0.06\n",
      "1           Pizza Place  0.05\n",
      "2  Caribbean Restaurant  0.04\n",
      "3        Sandwich Place  0.04\n",
      "4   American Restaurant  0.04\n",
      "\n",
      "\n",
      "----South Boston----\n",
      "                venue  freq\n",
      "0         Coffee Shop  0.07\n",
      "1                Park  0.05\n",
      "2               Hotel  0.05\n",
      "3      Sandwich Place  0.04\n",
      "4  Seafood Restaurant  0.04\n",
      "\n",
      "\n",
      "----South End----\n",
      "                 venue  freq\n",
      "0   Italian Restaurant  0.06\n",
      "1    French Restaurant  0.04\n",
      "2  American Restaurant  0.04\n",
      "3               Bakery  0.04\n",
      "4          Coffee Shop  0.03\n",
      "\n",
      "\n",
      "----West End----\n",
      "                venue  freq\n",
      "0  Italian Restaurant  0.08\n",
      "1                Park  0.06\n",
      "2         Pizza Place  0.05\n",
      "3               Hotel  0.05\n",
      "4              Bakery  0.05\n",
      "\n",
      "\n",
      "----West Roxbury----\n",
      "                 venue  freq\n",
      "0          Pizza Place  0.08\n",
      "1             Pharmacy  0.05\n",
      "2                  Bar  0.05\n",
      "3  American Restaurant  0.05\n",
      "4   Italian Restaurant  0.05\n",
      "\n",
      "\n"
     ]
    }
   ],
   "source": [
    "num_top_venues = 5\n",
    "bos_grouped = bos_onehot.groupby('Neighborhood').mean().reset_index()\n",
    "\n",
    "for hood in bos_grouped['Neighborhood']:\n",
    "    print(\"----\"+hood+\"----\")\n",
    "    temp = bos_grouped[bos_grouped['Neighborhood'] == hood].T.reset_index()\n",
    "    temp.columns = ['venue','freq']\n",
    "    temp = temp.iloc[1:]\n",
    "    temp['freq'] = temp['freq'].astype(float)\n",
    "    temp = temp.round({'freq': 2})\n",
    "    print(temp.sort_values('freq', ascending=False).reset_index(drop=True).head(num_top_venues))\n",
    "    print('\\n')"
   ]
  },
  {
   "cell_type": "code",
   "execution_count": 108,
   "metadata": {},
   "outputs": [
    {
     "name": "stdout",
     "output_type": "stream",
     "text": [
      "                  Neighborhood       Gym\n",
      "0                      Allston  0.010000\n",
      "1                     Back Bay  0.010000\n",
      "2                  Bay Village  0.030000\n",
      "3                  Beacon Hill  0.010000\n",
      "4                     Brighton  0.020000\n",
      "5                  Charlestown  0.000000\n",
      "6   Chinatown/Leather District  0.030000\n",
      "7                   Dorchester  0.030000\n",
      "8                     Downtown  0.010000\n",
      "9                  East Boston  0.030000\n",
      "10              Fenway Kenmore  0.020000\n",
      "11                   Hyde Park  0.000000\n",
      "12               Jamaica Plain  0.000000\n",
      "13                    Mattapan  0.000000\n",
      "14                Mission Hill  0.030000\n",
      "15                   North End  0.010000\n",
      "16                  Roslindale  0.012987\n",
      "17                     Roxbury  0.040000\n",
      "18                South Boston  0.030000\n",
      "19                   South End  0.020000\n",
      "20                    West End  0.010000\n",
      "21                West Roxbury  0.013333\n"
     ]
    }
   ],
   "source": [
    "dfGym = bos_grouped[['Neighborhood',\"Gym\"]]\n",
    "print(dfGym)"
   ]
  },
  {
   "cell_type": "markdown",
   "metadata": {},
   "source": [
    "<h3>Cluster Neighborhoods</h3>"
   ]
  },
  {
   "cell_type": "markdown",
   "metadata": {},
   "source": [
    "In this section we created 5 clusters of the 22 neighborhoods. In addition to creating the clusters, we will merge the new dataframe created with one of the existing dataframes. Lastly, we visualized the clusters using folium and different colored markers to depict which neighborhoods are in which cluster."
   ]
  },
  {
   "cell_type": "code",
   "execution_count": 113,
   "metadata": {},
   "outputs": [
    {
     "data": {
      "text/plain": [
       "array([2, 2, 1, 2, 3, 0, 1, 1, 2, 1], dtype=int32)"
      ]
     },
     "execution_count": 113,
     "metadata": {},
     "output_type": "execute_result"
    }
   ],
   "source": [
    "kclusters = 5\n",
    "\n",
    "bos_grouped_clustering = dfGym.drop('Neighborhood', 1)\n",
    "\n",
    "kmeans = KMeans(n_clusters=kclusters, random_state=0).fit(bos_grouped_clustering)\n",
    "\n",
    "kmeans.labels_[0:10] "
   ]
  },
  {
   "cell_type": "code",
   "execution_count": 117,
   "metadata": {},
   "outputs": [
    {
     "name": "stdout",
     "output_type": "stream",
     "text": [
      "                  Neighborhood       Gym  Cluster Labels   Latitude  Longitude\n",
      "5                  Charlestown  0.000000               0  42.367771 -71.059016\n",
      "13                    Mattapan  0.000000               0  42.278222 -71.096083\n",
      "11                   Hyde Park  0.000000               0  42.274773 -71.119898\n",
      "12               Jamaica Plain  0.000000               0  42.305849 -71.119092\n",
      "18                South Boston  0.030000               1  42.352250 -71.055690\n",
      "2                  Bay Village  0.030000               1  42.348165 -71.068470\n",
      "6   Chinatown/Leather District  0.030000               1  42.352510 -71.060900\n",
      "7                   Dorchester  0.030000               1  42.351355 -71.052848\n",
      "14                Mission Hill  0.030000               1  42.335710 -71.109800\n",
      "9                  East Boston  0.030000               1  42.351418 -71.056714\n",
      "0                      Allston  0.010000               2  42.350531 -71.111091\n",
      "16                  Roslindale  0.012987               2  42.281820 -71.137104\n",
      "15                   North End  0.010000               2  42.365490 -71.052970\n",
      "21                West Roxbury  0.013333               2  42.282201 -71.146000\n",
      "8                     Downtown  0.010000               2  42.358290 -71.056630\n",
      "3                  Beacon Hill  0.010000               2  42.358420 -71.068600\n",
      "1                     Back Bay  0.010000               2  42.349990 -71.087650\n",
      "20                    West End  0.010000               2  42.363940 -71.067390\n",
      "4                     Brighton  0.020000               3  42.352134 -71.124925\n",
      "19                   South End  0.020000               3  42.342560 -71.073580\n",
      "10              Fenway Kenmore  0.020000               3  42.343550 -71.101570\n",
      "17                     Roxbury  0.040000               4  42.330304 -71.089469\n"
     ]
    }
   ],
   "source": [
    "dfCopied = dfGym.copy()\n",
    "\n",
    "dfCopied[\"Cluster Labels\"] = kmeans.labels_\n",
    "dfCopied = dfCopied.join(df.set_index(\"Neighborhood\"), on=\"Neighborhood\")\n",
    "dfCopied.sort_values([\"Cluster Labels\"], inplace=True)\n",
    "\n",
    "print(dfCopied)"
   ]
  },
  {
   "cell_type": "code",
   "execution_count": 120,
   "metadata": {},
   "outputs": [
    {
     "data": {
      "text/html": [
       "<div style=\"width:100%;\"><div style=\"position:relative;width:100%;height:0;padding-bottom:60%;\"><span style=\"color:#565656\">Make this Notebook Trusted to load map: File -> Trust Notebook</span><iframe src=\"about:blank\" style=\"position:absolute;width:100%;height:100%;left:0;top:0;border:none !important;\" data-html=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 onload=\"this.contentDocument.open();this.contentDocument.write(atob(this.getAttribute('data-html')));this.contentDocument.close();\" allowfullscreen webkitallowfullscreen mozallowfullscreen></iframe></div></div>"
      ],
      "text/plain": [
       "<folium.folium.Map at 0x7fb78d5cd1d0>"
      ]
     },
     "execution_count": 120,
     "metadata": {},
     "output_type": "execute_result"
    }
   ],
   "source": [
    "# create map\n",
    "map_clusters = folium.Map(location=[latitude, longitude], zoom_start=11)\n",
    "\n",
    "# set color scheme for the clusters\n",
    "x = np.arange(kclusters)\n",
    "ys = [i + x + (i*x)**2 for i in range(kclusters)]\n",
    "colors_array = cm.rainbow(np.linspace(0, 1, len(ys)))\n",
    "rainbow = [colors.rgb2hex(i) for i in colors_array]\n",
    "\n",
    "# add markers to the map\n",
    "markers_colors = []\n",
    "for lat, lon, poi, cluster in zip(dfCopied['Latitude'], dfCopied['Longitude'], dfCopied['Neighborhood'], dfCopied['Cluster Labels']):\n",
    "    label = folium.Popup(str(poi) + ' Cluster ' + str(cluster), parse_html=True)\n",
    "    folium.CircleMarker(\n",
    "        [lat, lon],\n",
    "        radius=5,\n",
    "        popup=label,\n",
    "        color=rainbow[cluster-1],\n",
    "        fill=True,\n",
    "        fill_color=rainbow[cluster-1],\n",
    "        fill_opacity=0.7).add_to(map_clusters)\n",
    "       \n",
    "map_clusters"
   ]
  },
  {
   "cell_type": "markdown",
   "metadata": {},
   "source": [
    "<h3>Examine Clusters</h3>"
   ]
  },
  {
   "cell_type": "code",
   "execution_count": 123,
   "metadata": {},
   "outputs": [
    {
     "name": "stdout",
     "output_type": "stream",
     "text": [
      "    Gym\n",
      "5   0.0\n",
      "13  0.0\n",
      "11  0.0\n",
      "12  0.0\n"
     ]
    }
   ],
   "source": [
    "print(dfCopied.loc[dfCopied['Cluster Labels'] == 0, dfCopied.columns[[1] + list(range(5, dfCopied.shape[1]))]])"
   ]
  },
  {
   "cell_type": "code",
   "execution_count": 124,
   "metadata": {},
   "outputs": [
    {
     "name": "stdout",
     "output_type": "stream",
     "text": [
      "     Gym\n",
      "18  0.03\n",
      "2   0.03\n",
      "6   0.03\n",
      "7   0.03\n",
      "14  0.03\n",
      "9   0.03\n"
     ]
    }
   ],
   "source": [
    "print(dfCopied.loc[dfCopied['Cluster Labels'] == 1, dfCopied.columns[[1] + list(range(5, dfCopied.shape[1]))]])"
   ]
  },
  {
   "cell_type": "code",
   "execution_count": 125,
   "metadata": {},
   "outputs": [
    {
     "name": "stdout",
     "output_type": "stream",
     "text": [
      "         Gym\n",
      "0   0.010000\n",
      "16  0.012987\n",
      "15  0.010000\n",
      "21  0.013333\n",
      "8   0.010000\n",
      "3   0.010000\n",
      "1   0.010000\n",
      "20  0.010000\n"
     ]
    }
   ],
   "source": [
    "print(dfCopied.loc[dfCopied['Cluster Labels'] == 2, dfCopied.columns[[1] + list(range(5, dfCopied.shape[1]))]])"
   ]
  },
  {
   "cell_type": "code",
   "execution_count": 126,
   "metadata": {},
   "outputs": [
    {
     "name": "stdout",
     "output_type": "stream",
     "text": [
      "     Gym\n",
      "4   0.02\n",
      "19  0.02\n",
      "10  0.02\n"
     ]
    }
   ],
   "source": [
    "print(dfCopied.loc[dfCopied['Cluster Labels'] == 3, dfCopied.columns[[1] + list(range(5, dfCopied.shape[1]))]])"
   ]
  },
  {
   "cell_type": "code",
   "execution_count": 127,
   "metadata": {},
   "outputs": [
    {
     "name": "stdout",
     "output_type": "stream",
     "text": [
      "     Gym\n",
      "17  0.04\n"
     ]
    }
   ],
   "source": [
    "print(dfCopied.loc[dfCopied['Cluster Labels'] == 4, dfCopied.columns[[1] + list(range(5, dfCopied.shape[1]))]])"
   ]
  },
  {
   "cell_type": "markdown",
   "metadata": {},
   "source": [
    "<h2>Conclusions</h2>"
   ]
  },
  {
   "cell_type": "markdown",
   "metadata": {},
   "source": [
    "Based on the analysis conducted above, we can come to a few conclusions. In general, we see that there are fewer gyms as you move away from the literal city of Boston and into its surrounding neighborhoods. Cluster 0 which does not have any gyms within a mile radius of the neighborhoods coordinates includes neighborhoods which are almost entirely not within the city. On the other hand we see the cluster with an average number of gyms to be closer to Downtown, where there are a greater number of businesses and vicinity to the MBTA train system. It is possible this number actually appears to be lower on average because in Clusters 1 and 2, there are a greater number of businesses in the area. \n",
    "\n",
    "In regards to where an investor should open a gym, I would suggest opening one in Cluster 0. Cluster 0 is a generally residential area and would potentially find benefits in development. Because of this fact, it is actually possible that residents in Cluster 0 are traveling to gyms in other neighbhorhoods. On the other hand, I would deter investors from opening any gyms in Clusters 1 and 2. Because these areas are densely populated with venues ranging from bars to restaurants, there are also many gyms and therefore a new gym would face severe competition. One issue the gym would face in this area is convincing gym-goers to switch from their home gym to the new gym and it is ultimately not worth the risk. "
   ]
  }
 ],
 "metadata": {
  "kernelspec": {
   "display_name": "Python",
   "language": "python",
   "name": "conda-env-python-py"
  },
  "language_info": {
   "codemirror_mode": {
    "name": "ipython",
    "version": 3
   },
   "file_extension": ".py",
   "mimetype": "text/x-python",
   "name": "python",
   "nbconvert_exporter": "python",
   "pygments_lexer": "ipython3",
   "version": "3.6.11"
  }
 },
 "nbformat": 4,
 "nbformat_minor": 4
}
