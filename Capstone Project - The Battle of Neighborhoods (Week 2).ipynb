{
 "cells": [
  {
   "cell_type": "markdown",
   "metadata": {},
   "source": [
    "<h1>Capstone Project - The Battle of Neighborhoods (Week 2)</h1>"
   ]
  },
  {
   "cell_type": "markdown",
   "metadata": {},
   "source": [
    "<h2>Introduction</h2>"
   ]
  },
  {
   "cell_type": "markdown",
   "metadata": {},
   "source": [
    "What do you think of when you think of shopping? Probably a mall, right? In most areas, rural and urban, a shopping mall is the primary location for folks to walk around, purchase items, and sometimes even have a meal. For this project, we're going to determine where is the best place to open a mall in the Greater Boston Area. The most famous mall in the city itself is perhaps Copley Place in the Back Bay neighborhood which features stores that range from Tiffany & Co. to Lucky Brand, but is Back Bay *really* the best place to be?\n",
    "\n",
    "As the Greater Boston Area continues to expand and develop into its surrounding neighborhoods such as Dorchester, Roxbury, etc., this information will become relevant and can even be manipulated to target the development of movie theaters, housing complexes, etc. instead of malls. Therefore, the target audience of this report will be developers and investors that are looking to profit on the production of such development. Having this information could not only promote development, but also drive profits for investors. According to Norada Real Estate Investments, the average housing prices in Boston are increasing by about 5.7% per year. This might not seem like much until you realize that the most expensive neighborhood of Beacon Hill has an median housing price of over $2 million dollars. Having such information, but for all neighbors can let investors know if its really worth placing a mall in an area where housing is so expensive. "
   ]
  },
  {
   "cell_type": "markdown",
   "metadata": {},
   "source": [
    "<h2>Data</h2>"
   ]
  },
  {
   "cell_type": "markdown",
   "metadata": {},
   "source": [
    "The primary dataset we're going to be using in this project is that from the Foursquare API, specifically the venue data that lists the shopping malls in the Greater Boston Area. In regards to the area we will be surveying, I will refer to the 22 neighborhoods listed in [this](https://en.wikipedia.org/wiki/Neighborhoods_in_Boston) Wikipedia article. I will use python webscraping techniques using beautiful soup in order extract the neighborhood information which I'll then be able to send into the Geocoder package and eventually the Foursquare API to get venue information\n",
    "\n",
    "Once we have all of our data sourced, we will be able to implement the techniques learned in this course, specifically k-means clustering in order to determine the answer to our question at hand. The clustering will happen based on the venues (specifically the malls) in the different zip codes that encompass the neighborhoods."
   ]
  },
  {
   "cell_type": "markdown",
   "metadata": {},
   "source": [
    "<h2>Analysis</h2>"
   ]
  },
  {
   "cell_type": "markdown",
   "metadata": {},
   "source": [
    "<h3>Install Necessary Dependencies</h3>"
   ]
  },
  {
   "cell_type": "code",
   "execution_count": 48,
   "metadata": {},
   "outputs": [],
   "source": [
    "import numpy as np\n",
    "import pandas as pd\n",
    "import requests\n",
    "#!conda install -c conda-forge bs4 --yes\n",
    "import bs4\n",
    "import requests\n",
    "from urllib.request import urlopen\n",
    "from bs4 import BeautifulSoup\n",
    "#!conda install -c conda-forge folium=0.5.0 --yes \n",
    "import folium\n",
    "#!conda install -c conda-forge geopy --yes\n",
    "import geopy\n",
    "from geopy.geocoders import Nominatim\n",
    "#!conda install -c conda-forge geocoder --yes\n",
    "import geocoder"
   ]
  },
  {
   "cell_type": "markdown",
   "metadata": {},
   "source": [
    "<h3>Import Data</h3>"
   ]
  },
  {
   "cell_type": "markdown",
   "metadata": {},
   "source": [
    "In this section we will scrape the Wikipedia page in order to retrieve the names of the 22 neighborhoods in the Greater Boston Area. Something that was prevalent in this process was that in the neighborhood name was surrounding areas that were included. In order to avoid running into issues with this going forward, everything except for the neighborhood name was emitted."
   ]
  },
  {
   "cell_type": "code",
   "execution_count": 30,
   "metadata": {},
   "outputs": [],
   "source": [
    "neighborhoodData = requests.get(\"https://en.wikipedia.org/wiki/Neighborhoods_in_Boston\").text\n",
    "souped = BeautifulSoup(neighborhoodData, 'html.parser')"
   ]
  },
  {
   "cell_type": "code",
   "execution_count": 31,
   "metadata": {},
   "outputs": [
    {
     "name": "stdout",
     "output_type": "stream",
     "text": [
      "<class 'pandas.core.frame.DataFrame'>\n",
      "RangeIndex: 22 entries, 0 to 21\n",
      "Data columns (total 1 columns):\n",
      " #   Column        Non-Null Count  Dtype \n",
      "---  ------        --------------  ----- \n",
      " 0   Neighborhood  22 non-null     object\n",
      "dtypes: object(1)\n",
      "memory usage: 304.0+ bytes\n"
     ]
    }
   ],
   "source": [
    "data = []\n",
    "\n",
    "for row in souped.find_all(\"div\", class_=\"div-col columns column-width\")[0].findAll(\"li\"):\n",
    "    data.append(row.text)\n",
    "    \n",
    "df = pd.DataFrame({\"Neighborhood\": data})\n",
    "df.info() # Should show that there are 22 entries (aka 22 neighborhoods)"
   ]
  },
  {
   "cell_type": "code",
   "execution_count": 34,
   "metadata": {},
   "outputs": [
    {
     "name": "stdout",
     "output_type": "stream",
     "text": [
      "                                         Neighborhood\n",
      "0                                             Allston\n",
      "1                                            Back Bay\n",
      "2                                         Bay Village\n",
      "3                                         Beacon Hill\n",
      "4                                            Brighton\n",
      "5                                         Charlestown\n",
      "6                          Chinatown/Leather District\n",
      "7   Dorchester (divided for planning purposes into...\n",
      "8                                            Downtown\n",
      "9                                         East Boston\n",
      "10                 Fenway Kenmore (includes Longwood)\n",
      "11                                          Hyde Park\n",
      "12                                      Jamaica Plain\n",
      "13                                           Mattapan\n",
      "14                                       Mission Hill\n",
      "15                                          North End\n",
      "16                                         Roslindale\n",
      "17                                            Roxbury\n",
      "18                                       South Boston\n",
      "19                                          South End\n",
      "20                                           West End\n",
      "21                                       West Roxbury\n"
     ]
    }
   ],
   "source": [
    "print(df)"
   ]
  },
  {
   "cell_type": "code",
   "execution_count": 42,
   "metadata": {},
   "outputs": [],
   "source": [
    "df['Neighborhood'].replace({'Fenway Kenmore (includes Longwood)':'Fenway Kenmore'},inplace=True)\n",
    "df['Neighborhood'].replace({'Dorchester (divided for planning purposes into Mid Dorchester and Dorchester)':'Dorchester'},inplace=True)"
   ]
  },
  {
   "cell_type": "code",
   "execution_count": 43,
   "metadata": {},
   "outputs": [
    {
     "name": "stdout",
     "output_type": "stream",
     "text": [
      "                  Neighborhood\n",
      "0                      Allston\n",
      "1                     Back Bay\n",
      "2                  Bay Village\n",
      "3                  Beacon Hill\n",
      "4                     Brighton\n",
      "5                  Charlestown\n",
      "6   Chinatown/Leather District\n",
      "7                   Dorchester\n",
      "8                     Downtown\n",
      "9                  East Boston\n",
      "10              Fenway Kenmore\n",
      "11                   Hyde Park\n",
      "12               Jamaica Plain\n",
      "13                    Mattapan\n",
      "14                Mission Hill\n",
      "15                   North End\n",
      "16                  Roslindale\n",
      "17                     Roxbury\n",
      "18                South Boston\n",
      "19                   South End\n",
      "20                    West End\n",
      "21                West Roxbury\n"
     ]
    }
   ],
   "source": [
    "print(df)"
   ]
  },
  {
   "cell_type": "code",
   "execution_count": 35,
   "metadata": {},
   "outputs": [
    {
     "data": {
      "text/plain": [
       "(22, 1)"
      ]
     },
     "execution_count": 35,
     "metadata": {},
     "output_type": "execute_result"
    }
   ],
   "source": [
    "df.shape"
   ]
  },
  {
   "cell_type": "markdown",
   "metadata": {},
   "source": [
    "<h3>Latitude & Longitude</h3>"
   ]
  },
  {
   "cell_type": "markdown",
   "metadata": {},
   "source": [
    "In this section we will retrieve the coordinates of each neighborhood using the geocoder library. This method is similar to that provided in the *Segmenting and Clustering Neighborhoods in Toronto* section, but is slightly modified to examine the neighborhood rather than the postal code. After the coordinates were received, they were matched to their respective neighborhoods in the original dataframe initialized above."
   ]
  },
  {
   "cell_type": "code",
   "execution_count": 50,
   "metadata": {},
   "outputs": [],
   "source": [
    "def getCoords(neighborhood):\n",
    "    coords = None\n",
    "    while(coords is None):\n",
    "        geo = geocoder.arcgis('{}, Boston, Massachusetts'.format(neighborhood))\n",
    "        coords = geo.latlng\n",
    "    return coords"
   ]
  },
  {
   "cell_type": "code",
   "execution_count": 52,
   "metadata": {},
   "outputs": [],
   "source": [
    "coordinates = [ getCoords(neighborhood) for neighborhood in df[\"Neighborhood\"].tolist() ]"
   ]
  },
  {
   "cell_type": "code",
   "execution_count": 58,
   "metadata": {},
   "outputs": [
    {
     "name": "stdout",
     "output_type": "stream",
     "text": [
      "  Neighborhood   Latitude  Longitude\n",
      "0      Allston  42.350531 -71.111091\n",
      "1     Back Bay  42.349990 -71.087650\n",
      "2  Bay Village  42.348165 -71.068470\n",
      "3  Beacon Hill  42.358420 -71.068600\n",
      "4     Brighton  42.352134 -71.124925\n"
     ]
    }
   ],
   "source": [
    "dfCoordinates = pd.DataFrame(coordinates, columns=['Latitude', 'Longitude'])\n",
    "\n",
    "df['Latitude'] = dfCoordinates['Latitude']\n",
    "df['Longitude'] = dfCoordinates['Longitude']\n",
    "\n",
    "print(df.head())"
   ]
  },
  {
   "cell_type": "markdown",
   "metadata": {},
   "source": [
    "<h3>Initialize a Map</h3>"
   ]
  },
  {
   "cell_type": "markdown",
   "metadata": {},
   "source": [
    "In this section we will initialize a map that not only uses the general coordinates of the Greater Boston Area, but also each individual neighborhood. The blue markers found in the map are marking the 22 neighborhoods retrieved above."
   ]
  },
  {
   "cell_type": "code",
   "execution_count": 67,
   "metadata": {},
   "outputs": [
    {
     "name": "stdout",
     "output_type": "stream",
     "text": [
      "The geograpical coordinate of Boston, Massachusetts 42.3601, -71.0589.\n"
     ]
    }
   ],
   "source": [
    "# Sourced from Google Search Response, Coordinates of Boston: 42.3601° N, 71.0589° W\n",
    "\n",
    "latitude = 42.3601\n",
    "longitude = -71.0589\n",
    "print('The geograpical coordinate of Boston, Massachusetts {}, {}.'.format(latitude, longitude))"
   ]
  },
  {
   "cell_type": "code",
   "execution_count": 66,
   "metadata": {},
   "outputs": [
    {
     "data": {
      "text/html": [
       "<div style=\"width:100%;\"><div style=\"position:relative;width:100%;height:0;padding-bottom:60%;\"><span style=\"color:#565656\">Make this Notebook Trusted to load map: File -> Trust Notebook</span><iframe src=\"about:blank\" style=\"position:absolute;width:100%;height:100%;left:0;top:0;border:none !important;\" data-html=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 onload=\"this.contentDocument.open();this.contentDocument.write(atob(this.getAttribute('data-html')));this.contentDocument.close();\" allowfullscreen webkitallowfullscreen mozallowfullscreen></iframe></div></div>"
      ],
      "text/plain": [
       "<folium.folium.Map at 0x7fb84d3ddb00>"
      ]
     },
     "execution_count": 66,
     "metadata": {},
     "output_type": "execute_result"
    }
   ],
   "source": [
    "map_bos = folium.Map(location=[latitude, longitude], zoom_start=11)\n",
    "\n",
    "# add markers to map\n",
    "for lat, lng, neighborhood in zip(df['Latitude'], df['Longitude'], df['Neighborhood']):\n",
    "    label = '{}'.format(neighborhood)\n",
    "    label = folium.Popup(label, parse_html=True)\n",
    "    folium.CircleMarker(\n",
    "        [lat, lng],\n",
    "        radius=5,\n",
    "        popup=label,\n",
    "        color='blue',\n",
    "        fill=True,\n",
    "        fill_color='#3186cc',\n",
    "        fill_opacity=0.7).add_to(map_bos)  \n",
    "    \n",
    "map_bos"
   ]
  },
  {
   "cell_type": "markdown",
   "metadata": {},
   "source": [
    "<h3>Foursquare API: Initialized & </h3>"
   ]
  }
 ],
 "metadata": {
  "kernelspec": {
   "display_name": "Python",
   "language": "python",
   "name": "conda-env-python-py"
  },
  "language_info": {
   "codemirror_mode": {
    "name": "ipython",
    "version": 3
   },
   "file_extension": ".py",
   "mimetype": "text/x-python",
   "name": "python",
   "nbconvert_exporter": "python",
   "pygments_lexer": "ipython3",
   "version": "3.6.11"
  }
 },
 "nbformat": 4,
 "nbformat_minor": 4
}
